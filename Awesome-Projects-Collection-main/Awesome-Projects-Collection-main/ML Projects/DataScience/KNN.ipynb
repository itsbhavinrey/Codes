{
 "cells": [
  {
   "cell_type": "code",
   "execution_count": 2,
   "metadata": {},
   "outputs": [],
   "source": [
    "#KNN\n",
    "import pandas as pd\n",
    "from sklearn.metrics import confusion_matrix\n",
    "from sklearn.metrics import accuracy_score\n",
    "from sklearn.neighbors import KNeighborsClassifier\n",
    "from sklearn.model_selection import train_test_split\n",
    "from sklearn.preprocessing import StandardScaler\n",
    "from sklearn.preprocessing import MinMaxScaler\n",
    "from sklearn.decomposition import PCA\n",
    "import matplotlib.pyplot as plt"
   ]
  },
  {
   "cell_type": "code",
   "execution_count": 3,
   "metadata": {},
   "outputs": [
    {
     "name": "stdout",
     "output_type": "stream",
     "text": [
      "   SEX  AGEGRP  REGION  REFILL_COUNT  ADMTYP  Total Knee Arthrolplasty  \\\n",
      "0    2       5       4            15       2                         0   \n",
      "1    2       5       4            15       2                         0   \n",
      "2    2       5       4            15       2                         0   \n",
      "3    2       5       4            15       2                         0   \n",
      "4    2       5       3             8       2                         0   \n",
      "\n",
      "   OSTEOARTHROSIS secondary lower leg  Removal of Foreign Body from Eye  \\\n",
      "0                                   0                                 0   \n",
      "1                                   0                                 0   \n",
      "2                                   0                                 0   \n",
      "3                                   0                                 0   \n",
      "4                                   0                                 0   \n",
      "\n",
      "   Total Knee Replacement  OSTEOARTHROSIS primary lower leg  \\\n",
      "0                       0                                 0   \n",
      "1                       0                                 0   \n",
      "2                       0                                 0   \n",
      "3                       0                                 0   \n",
      "4                       0                                 0   \n",
      "\n",
      "   OSTEOARTHROSIS generalized lower leg  TOTAL HIP ANTHROPLASTY  \\\n",
      "0                                     0                       0   \n",
      "1                                     0                       0   \n",
      "2                                     0                       0   \n",
      "3                                     0                       0   \n",
      "4                                     0                       0   \n",
      "\n",
      "   FASCIOLOPSIASIS  TOTAL HIP REPLACEMENT  Medicine  Class  \n",
      "0                0                      0         1      1  \n",
      "1                0                      0         1      1  \n",
      "2                0                      0         1      1  \n",
      "3                0                      0         1      1  \n",
      "4                0                      0         1      1  \n"
     ]
    }
   ],
   "source": [
    "file = pd.read_csv(\"/home/khyati/Downloads/Batch06/Batch06.csv\")\n",
    "import numpy as np\n",
    "df = pd.DataFrame(file)\n",
    "\n",
    "outlier = []\n",
    "count = 0\n",
    "for i in df.columns:\n",
    "    count = 0                                 # Replacing all the outliers with mean of their\n",
    "    lq = df[i].quantile(.25)                  # column\n",
    "    hq = df[i].quantile(.75)\n",
    "    IQR = hq-lq \n",
    "    md = df[i].mean()\n",
    "    if(i != \"Class\"):\n",
    "        for j in range(len(df[i])):\n",
    "            if(df[i][j] < lq - 1.5*IQR or df[i][j] > hq + 1.5*IQR):\n",
    "                df[i][j] = md\n",
    "                count += 1\n",
    "    outlier.append(count)\n",
    "    \n",
    "print(file.head())"
   ]
  },
  {
   "cell_type": "code",
   "execution_count": 4,
   "metadata": {},
   "outputs": [],
   "source": [
    "train = df.loc[:,\"SEX\":\"Medicine\"]\n",
    "test = df[\"Class\"]\n",
    "acc = []"
   ]
  },
  {
   "cell_type": "code",
   "execution_count": 5,
   "metadata": {},
   "outputs": [
    {
     "name": "stdout",
     "output_type": "stream",
     "text": [
      "Accuracy  0.9994301994301994\n",
      "\n",
      "Confusion Matrix\n",
      "[[1363    2]\n",
      " [   0 2145]]\n"
     ]
    }
   ],
   "source": [
    "#unprocessed\n",
    "\n",
    "X_train, X_test, y_train, y_test = train_test_split(train, test, test_size=0.3, random_state=42)\n",
    "\n",
    "knn = KNeighborsClassifier(n_neighbors=5, metric='euclidean')\n",
    "knn.fit(X_train, y_train)\n",
    "\n",
    "y_pred = knn.predict(X_test)\n",
    "acc.append(accuracy_score(y_test, y_pred))\n",
    "print(\"Accuracy \",accuracy_score(y_test, y_pred))\n",
    "print()\n",
    "print(\"Confusion Matrix\")\n",
    "print(confusion_matrix(y_test, y_pred))"
   ]
  },
  {
   "cell_type": "code",
   "execution_count": 6,
   "metadata": {},
   "outputs": [
    {
     "name": "stdout",
     "output_type": "stream",
     "text": [
      "Accuracy  0.9977207977207977\n",
      "\n",
      "Confusion Matrix\n",
      "[[1359    6]\n",
      " [   2 2143]]\n"
     ]
    },
    {
     "name": "stderr",
     "output_type": "stream",
     "text": [
      "/usr/local/lib/python3.6/dist-packages/sklearn/preprocessing/data.py:323: DataConversionWarning: Data with input dtype int64 were all converted to float64 by MinMaxScaler.\n",
      "  return self.partial_fit(X, y)\n"
     ]
    }
   ],
   "source": [
    "#Normalized\n",
    "\n",
    "norm = MinMaxScaler()\n",
    "norm.fit(train)\n",
    "train = norm.transform(train)\n",
    "\n",
    "X_train, X_test, y_train, y_test = train_test_split(train, test, test_size=0.3, random_state=42)\n",
    "\n",
    "knn = KNeighborsClassifier(n_neighbors=5, metric='euclidean')\n",
    "knn.fit(X_train, y_train)\n",
    "\n",
    "y_pred = knn.predict(X_test)\n",
    "acc.append(accuracy_score(y_test, y_pred))\n",
    "print(\"Accuracy \",accuracy_score(y_test, y_pred))\n",
    "print()\n",
    "print(\"Confusion Matrix\")\n",
    "print(confusion_matrix(y_test, y_pred))"
   ]
  },
  {
   "cell_type": "code",
   "execution_count": 7,
   "metadata": {},
   "outputs": [
    {
     "name": "stdout",
     "output_type": "stream",
     "text": [
      "Accuracy  0.998005698005698\n",
      "\n",
      "Confusion Matrix\n",
      "[[1360    5]\n",
      " [   2 2143]]\n"
     ]
    }
   ],
   "source": [
    "#Standardized\n",
    "\n",
    "scaler = StandardScaler()\n",
    "scaler.fit(train)\n",
    "train = scaler.transform(train)\n",
    "\n",
    "X_train, X_test, y_train, y_test = train_test_split(train, test, test_size=0.3, random_state=42)\n",
    "\n",
    "knn = KNeighborsClassifier(n_neighbors=5, metric='euclidean')\n",
    "knn.fit(X_train, y_train)\n",
    "\n",
    "y_pred = knn.predict(X_test)\n",
    "acc.append(accuracy_score(y_test, y_pred))\n",
    "print(\"Accuracy \",accuracy_score(y_test, y_pred))\n",
    "print()\n",
    "print(\"Confusion Matrix\")\n",
    "print(confusion_matrix(y_test, y_pred))"
   ]
  },
  {
   "cell_type": "code",
   "execution_count": 9,
   "metadata": {},
   "outputs": [
    {
     "name": "stdout",
     "output_type": "stream",
     "text": [
      "[[1320   45]\n",
      " [  11 2134]]\n",
      "[[1328   37]\n",
      " [   8 2137]]\n",
      "[[1344   21]\n",
      " [   5 2140]]\n",
      "[[1359    6]\n",
      " [   2 2143]]\n",
      "[[1358    7]\n",
      " [   0 2145]]\n",
      "[[1358    7]\n",
      " [   1 2144]]\n",
      "[[1357    8]\n",
      " [   1 2144]]\n",
      "[[1356    9]\n",
      " [   1 2144]]\n",
      "[[1359    6]\n",
      " [   2 2143]]\n",
      "[[1358    7]\n",
      " [   1 2144]]\n",
      "[[1359    6]\n",
      " [   2 2143]]\n",
      "[[1357    8]\n",
      " [   1 2144]]\n",
      "[[1357    8]\n",
      " [   1 2144]]\n",
      "[[1357    8]\n",
      " [   1 2144]]\n",
      "[[1357    8]\n",
      " [   1 2144]]\n"
     ]
    },
    {
     "data": {
      "image/png": "[encoded data removed]",
      "text/plain": [
       "<matplotlib.figure.Figure at 0x7fe0793279e8>"
      ]
     },
     "metadata": {
      "needs_background": "light"
     },
     "output_type": "display_data"
    }
   ],
   "source": [
    "#PCA\n",
    "\n",
    "acc1 = []\n",
    "n = [i for i in range(1,16)]\n",
    "for i in range(1,16):\n",
    "    pca = PCA(n_components=i)\n",
    "\n",
    "    X_train, X_test, y_train, y_test = train_test_split(train, test, test_size=0.3, random_state=42)\n",
    "\n",
    "    X_train = pca.fit_transform(X_train) \n",
    "    X_test = pca.transform(X_test) \n",
    "\n",
    "    knn = KNeighborsClassifier(n_neighbors=5, metric='euclidean')\n",
    "    knn.fit(X_train, y_train)\n",
    "    \n",
    "    y_pred = knn.predict(X_test)\n",
    "\n",
    "    #print(\"Accuracy \",accuracy_score(y_test, y_pred))\n",
    "    #print()\n",
    "    if (i == 2):\n",
    "        acc.append(accuracy_score(y_test, y_pred))\n",
    "    acc1.append(accuracy_score(y_test, y_pred))\n",
    "    #print(\"Confusion Matrix\")\n",
    "    print(confusion_matrix(y_test, y_pred))\n",
    "    \n",
    "plt.plot(n,acc1)\n",
    "plt.ylabel(\"Accuracy\")\n",
    "plt.xlabel(\"N-components pca\")\n",
    "plt.show()"
   ]
  },
  {
   "cell_type": "code",
   "execution_count": 11,
   "metadata": {},
   "outputs": [],
   "source": [
    "#Inferences\n",
    "\n",
    "#Knn with unprocessed data has higher accuracy than the processed data with normalization, standardization, pca\n",
    "#for n-components >= 7  pca gives approximately the same accuracy as that with non-reduced data"
   ]
  },
  {
   "cell_type": "code",
   "execution_count": 13,
   "metadata": {},
   "outputs": [
    {
     "name": "stdout",
     "output_type": "stream",
     "text": [
      "Accuracy  0.9994301994301994\n",
      "Confusion Matrix\n",
      "[[1363    2]\n",
      " [   0 2145]]\n"
     ]
    }
   ],
   "source": [
    "# Feature Selection\n",
    "tr = pd.DataFrame(file)\n",
    "cl = tr['Class']\n",
    "tr = tr[['SEX','AGEGRP','REGION','REFILL_COUNT','ADMTYP','Total Knee Arthrolplasty','TOTAL HIP ANTHROPLASTY','Medicine']]\n",
    "X_train, X_test, y_train, y_test = train_test_split(tr, cl, test_size = 0.3, random_state = 42)\n",
    "knn = KNeighborsClassifier(n_neighbors=5, metric='euclidean')\n",
    "knn.fit(X_train, y_train)\n",
    "y_pred = knn.predict(X_test)\n",
    "acc.append(accuracy_score(y_test, y_pred))\n",
    "print(\"Accuracy \",accuracy_score(y_test, y_pred))\n",
    "print(\"Confusion Matrix\")\n",
    "print(confusion_matrix(y_test, y_pred))"
   ]
  },
  {
   "cell_type": "code",
   "execution_count": null,
   "metadata": {},
   "outputs": [],
   "source": []
  },
  {
   "cell_type": "code",
   "execution_count": 18,
   "metadata": {},
   "outputs": [
    {
     "name": "stdout",
     "output_type": "stream",
     "text": [
      "+-------------------+------------------------+\n",
      "|        Data       | Accuracy (KNN - n = 5) |\n",
      "+-------------------+------------------------+\n",
      "|      Original     |   0.9994301994301994   |\n",
      "|      Standard     |   0.998005698005698    |\n",
      "|     Normalised    |   0.9977207977207977   |\n",
      "| Feature Selection |   0.9866096866096866   |\n",
      "|     PCA(n = 2)    |   0.9866096866096866   |\n",
      "+-------------------+------------------------+\n"
     ]
    }
   ],
   "source": [
    "from prettytable import PrettyTable\n",
    "t = PrettyTable(['Data', 'Accuracy (KNN - n = 5)'])\n",
    "t.add_row(['Original',acc[0]])\n",
    "t.add_row(['Standard',acc[2]])\n",
    "t.add_row(['Normalised',acc[1]])\n",
    "t.add_row(['Feature Selection',acc[4]])\n",
    "t.add_row(['PCA(n = 2)',acc[3]])\n",
    "print(t)"
   ]
  },
  {
   "cell_type": "code",
   "execution_count": null,
   "metadata": {},
   "outputs": [],
   "source": []
  },
  {
   "cell_type": "code",
   "execution_count": null,
   "metadata": {},
   "outputs": [],
   "source": []
  }
 ],
 "metadata": {
  "kernelspec": {
   "display_name": "Python 3",
   "language": "python",
   "name": "python3"
  },
  "language_info": {
   "codemirror_mode": {
    "name": "ipython",
    "version": 3
   },
   "file_extension": ".py",
   "mimetype": "text/x-python",
   "name": "python",
   "nbconvert_exporter": "python",
   "pygments_lexer": "ipython3",
   "version": "3.6.8"
  }
 },
 "nbformat": 4,
 "nbformat_minor": 2
}
