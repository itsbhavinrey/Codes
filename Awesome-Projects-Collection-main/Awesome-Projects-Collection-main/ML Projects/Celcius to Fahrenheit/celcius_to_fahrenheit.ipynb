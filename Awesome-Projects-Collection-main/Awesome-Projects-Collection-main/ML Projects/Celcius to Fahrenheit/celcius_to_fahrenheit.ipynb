{
 "cells": [
  {
   "cell_type": "markdown",
   "source": [
    "# Import Dependencies"
   ],
   "metadata": {}
  },
  {
   "cell_type": "code",
   "execution_count": 48,
   "source": [
    "import tensorflow as tf #import tensorflow\r\n",
    "import logging #import logging for display error\r\n",
    "logger = tf.get_logger()\r\n",
    "logger.setLevel(logging.ERROR)\r\n",
    "\r\n",
    "import numpy as np #import numpy helps to represent our data as highly perfomance list\r\n"
   ],
   "outputs": [],
   "metadata": {}
  },
  {
   "cell_type": "markdown",
   "source": [
    "# Set up training data\r\n",
    "\r\n",
    "## in this data I use supervised learninng where we provide input that is Celsius and output in the form of farenheit"
   ],
   "metadata": {}
  },
  {
   "cell_type": "markdown",
   "source": [
    "# Terminology Machine Learning\r\n",
    "## - **Feature** The input. In this case single value because degrees celcius\r\n",
    "## - **Labels** The output. In this case single value because degree fahrenheit\r\n",
    "## - **Example** A pair input/output used during training. In this case from `celcius` and `fahrenheit`"
   ],
   "metadata": {}
  },
  {
   "cell_type": "code",
   "execution_count": 49,
   "source": [
    "'''\r\n",
    "data set up train conversion\r\n",
    "'''\r\n",
    "celcius = np.array([-40, -10, 0, 8, 15, 22, 38],  dtype = float)\r\n",
    "fahrenheit = np.array([-40, 14, 32, 46, 59, 72, 100], dtype = float)\r\n",
    "\r\n",
    "#print from data set up train\r\n",
    "for i,c in enumerate(celcius):\r\n",
    "    print(\"{} degrees Celcius = {} degrees Fahrenheit\".format(c, fahrenheit[i]))\r\n"
   ],
   "outputs": [
    {
     "output_type": "stream",
     "name": "stdout",
     "text": [
      "-40.0 degrees Celcius = -40.0 degrees Fahrenheit\n",
      "-10.0 degrees Celcius = 14.0 degrees Fahrenheit\n",
      "0.0 degrees Celcius = 32.0 degrees Fahrenheit\n",
      "8.0 degrees Celcius = 46.0 degrees Fahrenheit\n",
      "15.0 degrees Celcius = 59.0 degrees Fahrenheit\n",
      "22.0 degrees Celcius = 72.0 degrees Fahrenheit\n",
      "38.0 degrees Celcius = 100.0 degrees Fahrenheit\n"
     ]
    }
   ],
   "metadata": {}
  },
  {
   "cell_type": "markdown",
   "source": [
    "# Create Model\r\n",
    "\r\n",
    "## Next, make the model. Model used as simple as we ca, dense network."
   ],
   "metadata": {}
  },
  {
   "cell_type": "markdown",
   "source": [
    "# Build layer\r\n",
    "## We'll call layer `layer0` and create by `tf.keras.layers.Dense` with configuration\r\n",
    "\r\n",
    "## - `input_shape=[1]` this specifies the input to this layer is a single value, the single value is a floating point number celcius\r\n",
    "## - `units=1` this specifies the number of neurons in the layer, the number of neurons defines how many internal variabel the layer has to try to learn how to solve the problem. The single value is a floating point number fahrenheit"
   ],
   "metadata": {}
  },
  {
   "cell_type": "code",
   "execution_count": 50,
   "source": [
    "layer0 = tf.keras.layers.Dense(units=1, input_shape=[1])"
   ],
   "outputs": [],
   "metadata": {}
  },
  {
   "cell_type": "markdown",
   "source": [
    "# Assemble layers into the model\r\n",
    "\r\n",
    "## Once layers are defined, they need to be assembled into a model. The Sequential model takes a list of layers as an argument, specifying the calculation order from the input to the output"
   ],
   "metadata": {}
  },
  {
   "cell_type": "code",
   "execution_count": 51,
   "source": [
    "model = tf.keras.Sequential([layer0]) "
   ],
   "outputs": [],
   "metadata": {}
  },
  {
   "cell_type": "markdown",
   "source": [
    "# You can define layers above or below. \r\n",
    "\r\n",
    "## layers define in the model definition\r\n",
    "\r\n",
    "```python\r\n",
    "model = tf.keras.Sequential([\r\n",
    "    tf.keras.layers.Dense(units=1, input_shape=[1])\r\n",
    "])"
   ],
   "metadata": {}
  },
  {
   "cell_type": "markdown",
   "source": [
    "# Compile the model, with loss and optimizer functions\r\n",
    "\r\n",
    "## Before train model has toi be compiled\r\n",
    "\r\n",
    "## - `Loss function` A way of measuring how far off predictions are from the desired outcome\r\n",
    "## - `Optimizer function` A way of adjusting internal values in order to reduce the loss"
   ],
   "metadata": {}
  },
  {
   "cell_type": "code",
   "execution_count": 52,
   "source": [
    "model.compile(loss='mean_squared_error', optimizer=tf.keras.optimizers.Adam(0.1))"
   ],
   "outputs": [],
   "metadata": {}
  },
  {
   "cell_type": "markdown",
   "source": [
    "## These are used during training `model.fit()` bellow to first calculate the loss at each point and then improve it. In fact act of calculating the current loss of a model and then improving it is precisely what training is.\r\n",
    "\r\n",
    "## The optimizer function is used to adjust internal variabel until the model reflects the actual equation to convert Celcius to Fahrenheit\r\n",
    "\r\n",
    "## One part of the optimizer you may need to think about is the speed of learning (`0.1` in code above). This is measure of steps taken when adjusting values in a model. Too big and accuracy dropped. Find values usually in `0.001` and `0.1`"
   ],
   "metadata": {}
  },
  {
   "cell_type": "code",
   "execution_count": 53,
   "source": [
    "train = model.fit(celcius, fahrenheit, epochs = 500, verbose=False) \r\n",
    "# model.fit() ==> train code\r\n",
    "#celcius ==> variabel input\r\n",
    "#fahrenheit ==> variabel output\r\n",
    "#epoch ==> how many times this cycle should be run\r\n",
    "#verbose ==> control how much output  the method produces\r\n",
    "\r\n",
    "print(\"Finish trained model\")"
   ],
   "outputs": [
    {
     "output_type": "stream",
     "name": "stdout",
     "text": [
      "Finish trained model\n"
     ]
    }
   ],
   "metadata": {}
  },
  {
   "cell_type": "markdown",
   "source": [
    "# Display training statistic\r\n",
    "\r\n",
    "## The `fit` method returns a train object. We can use this object to plot how the loss of our model goes down after each training epoch."
   ],
   "metadata": {}
  },
  {
   "cell_type": "code",
   "execution_count": 54,
   "source": [
    "import matplotlib.pyplot as plt #import dependencies matplotlib\r\n",
    "\r\n",
    "plt.xlabel(\"Epoch Number\") #label X/horizontal\r\n",
    "plt.ylabel(\"Loss Magnitude\") #label y/vertical\r\n",
    "plt.plot(train.history['loss']) #return train object loss"
   ],
   "outputs": [
    {
     "output_type": "execute_result",
     "data": {
      "text/plain": [
       "[<matplotlib.lines.Line2D at 0x229e2b1dfd0>]"
      ]
     },
     "metadata": {},
     "execution_count": 54
    },
    {
     "output_type": "display_data",
     "data": {
      "image/png": "[encoded data removed]",
      "text/plain": [
       "<Figure size 432x288 with 1 Axes>"
      ]
     },
     "metadata": {
      "needs_background": "light"
     }
    }
   ],
   "metadata": {}
  },
  {
   "cell_type": "markdown",
   "source": [
    "## A high loss means that the Fahrenheit degrees the model predicts is far from the corresponding value `fahrenheit`.\r\n",
    "\r\n",
    "## But as you can see, our model initially had a high loss, and then had a steady and slow improvment until it was clos to \"perfect\" the end."
   ],
   "metadata": {}
  },
  {
   "cell_type": "markdown",
   "source": [
    "# Use the model to predict values\r\n",
    "\r\n",
    "## So, for example, if the Celsius value is 100, what do you think the Fahrenheit result will be? Take a guess before you run this code."
   ],
   "metadata": {}
  },
  {
   "cell_type": "code",
   "execution_count": 55,
   "source": [
    "print(model.predict([100.0]))\r\n",
    "\r\n",
    "#model.predict() ==> for to predict\r\n",
    "#model.predict([...]) ==> input for predict in his case celcius degrees to convert in fahrenheit degrees\r\n"
   ],
   "outputs": [
    {
     "output_type": "stream",
     "name": "stdout",
     "text": [
      "[[211.30136]]\n"
     ]
    }
   ],
   "metadata": {}
  },
  {
   "cell_type": "markdown",
   "source": [
    "## Review\r\n",
    "\r\n",
    "## - We created a model with Dense layer and trained it with 3500 examples from 7 pairs(`data set up trained`) and `epochs = 500`"
   ],
   "metadata": {}
  },
  {
   "cell_type": "markdown",
   "source": [
    "# Looking at the layer weights"
   ],
   "metadata": {}
  },
  {
   "cell_type": "code",
   "execution_count": 56,
   "source": [
    "print(\"These are the layer variables: {}\".format(layer0.get_weights()))"
   ],
   "outputs": [
    {
     "output_type": "stream",
     "name": "stdout",
     "text": [
      "These are the layer variables: [array([[1.8254689]], dtype=float32), array([28.754469], dtype=float32)]\n"
     ]
    }
   ],
   "metadata": {}
  },
  {
   "cell_type": "markdown",
   "source": [
    "## The first variabel is close to `1.8` and the second is close to `32`(although `28.7554469` but this is close to `32`). These values (`1.8` and `32`) are the actual variables in the actual conversion formula, this is very close to the value in the conversion formula "
   ],
   "metadata": {}
  },
  {
   "cell_type": "markdown",
   "source": [
    "# Little experiment\r\n",
    "\r\n",
    "## what if we created more Dense layers with different units, which therefore also has more variables?"
   ],
   "metadata": {}
  },
  {
   "cell_type": "code",
   "execution_count": 57,
   "source": [
    "'''\r\n",
    "Build Layer\r\n",
    "'''\r\n",
    "layer0 = tf.keras.layers.Dense(units=4, input_shape=[1])\r\n",
    "layer1 = tf.keras.layers.Dense(units=4)\r\n",
    "layer2 = tf.keras.layers.Dense(units=1)\r\n",
    "\r\n",
    "'''\r\n",
    "Assemble layers\r\n",
    "'''\r\n",
    "model = tf.keras.Sequential([layer0, layer1, layer2])\r\n",
    "\r\n",
    "'''\r\n",
    "Model compile\r\n",
    "'''\r\n",
    "model.compile(loss=\"mean_squared_error\", optimizer=tf.keras.optimizers.Adam(0.1))\r\n",
    "\r\n",
    "'''\r\n",
    "Model Train(fit)\r\n",
    "'''\r\n",
    "model.fit(celcius, fahrenheit, epochs=500, verbose=False)\r\n",
    "print(\"Finished training the model\")\r\n",
    "\r\n",
    "'''\r\n",
    "Predict\r\n",
    "'''\r\n",
    "print(model.predict([100.0]))\r\n",
    "print(\"Model predicts that 100 degrees Celcius is: {} degrees Fahrenheit\".format(model.predict([100.0])))\r\n",
    "\r\n",
    "'''\r\n",
    "Looking layer weight\r\n",
    "'''\r\n",
    "print(\"These are the layer0 variables: {}\".format(layer0.get_weights()))\r\n",
    "print(\"These are the layer1 variables: {}\".format(layer1.get_weights()))\r\n",
    "print(\"These are the layer2 variables: {}\".format(layer2.get_weights()))"
   ],
   "outputs": [
    {
     "output_type": "stream",
     "name": "stdout",
     "text": [
      "Finished training the model\n",
      "[[211.74744]]\n",
      "Model predicts that 100 degrees Celcius is: [[211.74744]] degrees Fahrenheit\n",
      "These are the layer0 variables: [array([[ 0.87813944,  0.2609989 ,  0.102182  , -0.20770687]],\n",
      "      dtype=float32), array([ 2.908337 , -2.262719 , -2.2069888, -2.856667 ], dtype=float32)]\n",
      "These are the layer1 variables: [array([[ 0.89772755, -0.10108886, -0.5602606 , -1.0055665 ],\n",
      "       [-0.803159  , -0.0159582 ,  0.6401319 ,  0.65822697],\n",
      "       [-0.7280839 , -0.3370738 ,  0.31502575,  0.8687057 ],\n",
      "       [-1.2285683 ,  0.23955962, -0.42185095,  0.95043063]],\n",
      "      dtype=float32), array([ 2.8888383 , -0.84708637, -2.7540588 , -2.8991883 ], dtype=float32)]\n",
      "These are the layer2 variables: [array([[ 1.0869486 ],\n",
      "       [-0.10889199],\n",
      "       [-0.69756854],\n",
      "       [-0.9880271 ]], dtype=float32), array([2.8091795], dtype=float32)]\n"
     ]
    }
   ],
   "metadata": {}
  }
 ],
 "metadata": {
  "orig_nbformat": 4,
  "language_info": {
   "name": "python",
   "version": "3.9.6",
   "mimetype": "text/x-python",
   "codemirror_mode": {
    "name": "ipython",
    "version": 3
   },
   "pygments_lexer": "ipython3",
   "nbconvert_exporter": "python",
   "file_extension": ".py"
  },
  "kernelspec": {
   "name": "python3",
   "display_name": "Python 3.9.6 64-bit"
  },
  "interpreter": {
   "hash": "55b027082babb9c961d95114f6be18b92d443eb858712b1b4363bb7a6244db22"
  }
 },
 "nbformat": 4,
 "nbformat_minor": 2
}