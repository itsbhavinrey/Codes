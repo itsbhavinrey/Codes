{
 "cells": [
  {
   "cell_type": "code",
   "execution_count": 3,
   "metadata": {},
   "outputs": [
    {
     "name": "stdout",
     "output_type": "stream",
     "text": [
      "number of faces found : 1\n",
      "number of faces found : 1\n",
      "number of faces found : 1\n",
      "number of faces found : 1\n",
      "number of faces found : 1\n",
      "number of faces found : 1\n",
      "number of faces found : 1\n",
      "number of faces found : 1\n",
      "number of faces found : 1\n",
      "number of faces found : 1\n",
      "number of faces found : 1\n",
      "number of faces found : 1\n",
      "number of faces found : 1\n",
      "number of faces found : 1\n",
      "number of faces found : 1\n",
      "number of faces found : 1\n",
      "number of faces found : 1\n",
      "number of faces found : 1\n",
      "number of faces found : 1\n",
      "number of faces found : 1\n",
      "number of faces found : 1\n",
      "number of faces found : 1\n",
      "number of faces found : 1\n",
      "number of faces found : 1\n",
      "number of faces found : 1\n",
      "number of faces found : 1\n",
      "number of faces found : 1\n",
      "number of faces found : 2\n",
      "number of faces found : 1\n",
      "number of faces found : 1\n",
      "number of faces found : 1\n",
      "number of faces found : 1\n",
      "number of faces found : 1\n",
      "number of faces found : 1\n",
      "number of faces found : 0\n",
      "number of faces found : 1\n",
      "number of faces found : 2\n",
      "number of faces found : 1\n",
      "number of faces found : 1\n"
     ]
    }
   ],
   "source": [
    "import cv2 \n",
    "import numpy as np\n",
    "cap=cv2.VideoCapture(0)\n",
    "\n",
    "face_cascade = cv2.CascadeClassifier(\"haarcascade_frontalface_default.xml\") \n",
    "eye_cascade = cv2.CascadeClassifier(\"haarcascade_eye.xml\")  \n",
    "mouth_cascade = cv2.CascadeClassifier('haarcascade_mcs_mouth.xml')\n",
    "cap = cv2.VideoCapture(0) \n",
    "\n",
    "bw_threshold = 80\n",
    "font = cv2.FONT_HERSHEY_SIMPLEX\n",
    "org = (30, 30)\n",
    "weared_mask_font_color = (0, 255, 0)\n",
    "not_weared_mask_font_color = (0, 0, 255)\n",
    "thickness = 2\n",
    "font_scale = 1\n",
    "weared_mask =\"Thank you for wearing mask\"\n",
    "not_weared_mask = \"Please wear MASK to defeat Corona\"\n",
    "\n",
    "while 1:  \n",
    "    ret, img = cap.read()  \n",
    "    gray = cv2.cvtColor(img, cv2.COLOR_BGR2GRAY) \n",
    "    \n",
    "    faces = face_cascade.detectMultiScale(gray, 1.3, 5) \n",
    "    print(\"number of faces found :\",len(faces))\n",
    "    img = cv2.flip(img,1); #to flip img for correct text\n",
    "    for (x,y,w,h) in faces: \n",
    "        # To draw a rectangle in a face  \n",
    "        cv2.rectangle(img,(x,y),(x+w,y+h),(255,255,0),2)  \n",
    "        roi_gray = gray[y:y+h, x:x+w] \n",
    "        roi_color = img[y:y+h, x:x+w] \n",
    "         \n",
    "        eyes = eye_cascade.detectMultiScale(roi_gray)  \n",
    "  \n",
    "        for (ex,ey,ew,eh) in eyes: \n",
    "            cv2.rectangle(roi_color,(ex,ey),(ex+ew,ey+eh),(0,127,255),2) \n",
    "            \n",
    "        mouth_rects = mouth_cascade.detectMultiScale(gray, 1.5, 5)\n",
    "        \n",
    "        if(len(mouth_rects) == 0):            \n",
    "            cv2.putText(img, weared_mask , org, font, font_scale, weared_mask_font_color, thickness, cv2.LINE_AA)\n",
    "        else:\n",
    "            for (mx, my, mw, mh) in mouth_rects:\n",
    "                if(y < my < y + h):                    \n",
    "                    cv2.putText(img,not_weared_mask , org, font, font_scale, not_weared_mask_font_color, thickness, cv2.LINE_AA)\n",
    "            \n",
    "    # show the images\n",
    "    cv2.imshow('frame',img)\n",
    "    \n",
    "    # Wait for Esc key to stop \n",
    "    k = cv2.waitKey(5)\n",
    "    if k == 27: \n",
    "        break\n",
    " \n",
    "cap.release()\n",
    "cv2.destroyAllWindows()  "
   ]
  },
  {
   "cell_type": "code",
   "execution_count": null,
   "metadata": {},
   "outputs": [],
   "source": []
  },
  {
   "cell_type": "code",
   "execution_count": null,
   "metadata": {},
   "outputs": [],
   "source": []
  },
  {
   "cell_type": "code",
   "execution_count": null,
   "metadata": {},
   "outputs": [],
   "source": []
  },
  {
   "cell_type": "code",
   "execution_count": null,
   "metadata": {},
   "outputs": [],
   "source": []
  },
  {
   "cell_type": "code",
   "execution_count": null,
   "metadata": {},
   "outputs": [],
   "source": []
  },
  {
   "cell_type": "code",
   "execution_count": null,
   "metadata": {},
   "outputs": [],
   "source": []
  },
  {
   "cell_type": "code",
   "execution_count": null,
   "metadata": {},
   "outputs": [],
   "source": []
  }
 ],
 "metadata": {
  "kernelspec": {
   "display_name": "Python 3",
   "language": "python",
   "name": "python3"
  },
  "language_info": {
   "codemirror_mode": {
    "name": "ipython",
    "version": 3
   },
   "file_extension": ".py",
   "mimetype": "text/x-python",
   "name": "python",
   "nbconvert_exporter": "python",
   "pygments_lexer": "ipython3",
   "version": "3.8.5"
  }
 },
 "nbformat": 4,
 "nbformat_minor": 4
}
